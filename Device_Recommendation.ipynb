{
  "nbformat": 4,
  "nbformat_minor": 0,
  "metadata": {
    "colab": {
      "provenance": []
    },
    "kernelspec": {
      "name": "python3",
      "display_name": "Python 3"
    },
    "language_info": {
      "name": "python"
    }
  },
  "cells": [
    {
      "cell_type": "code",
      "source": [
        "import nltk\n",
        "import pandas as pd\n",
        "import numpy as np\n",
        "from sklearn.metrics.pairwise import cosine_similarity\n",
        "from sklearn.feature_extraction.text import CountVectorizer\n",
        "import warnings\n",
        "warnings.filterwarnings(\"ignore\")"
      ],
      "metadata": {
        "id": "GP9QYcZYIdZB"
      },
      "execution_count": 42,
      "outputs": []
    },
    {
      "cell_type": "code",
      "source": [
        "df=pd.read_csv('Devices_configuration.csv')\n",
        "df.head"
      ],
      "metadata": {
        "id": "AiZMch0RKT-B"
      },
      "execution_count": null,
      "outputs": []
    },
    {
      "cell_type": "code",
      "source": [
        "print('Rows x Columns : ', df.shape[0], 'x', df.shape[1])\n",
        "print('Features: ', df.columns.tolist())\n",
        "print('\\nUnique values:')\n",
        "print(df.nunique())"
      ],
      "metadata": {
        "id": "EtoedvZcKuHP"
      },
      "execution_count": null,
      "outputs": []
    },
    {
      "cell_type": "code",
      "source": [
        "df = df[['Company','Model Name','Category','CPU','Storage','OS']]\n",
        "df"
      ],
      "metadata": {
        "id": "IHLi7f0SLcwa"
      },
      "execution_count": null,
      "outputs": []
    },
    {
      "cell_type": "code",
      "source": [
        "import nltk\n",
        "nltk.download('stopwords')\n",
        "nltk.download('punkt')"
      ],
      "metadata": {
        "id": "F2aF1CN-TVPq"
      },
      "execution_count": null,
      "outputs": []
    },
    {
      "cell_type": "code",
      "source": [
        "df['Company'] = df['Company'].map(lambda x: x.split(' '))\n",
        "df['Category'] = df['Category'].map(lambda x: x.split(' '))\n",
        "df['CPU'] = df['CPU'].map(lambda x: x.split(' ')[:3])\n",
        "df['Storage'] = df['Storage'].map(lambda x: x.split(' ')[:3])\n",
        "df['OS'] = df['OS'].map(lambda x: x.split(' '))\n",
        "\n",
        "for index, row in df.iterrows():\n",
        "    row['Company'] = [x.lower().replace(' ','') for x in row['Company']]\n",
        "    row['Category'] = [x.lower().replace(' ','') for x in row['Category']]\n",
        "    row['CPU'] = [x.lower().replace(' ','') for x in row['CPU']]\n",
        "    row['Storage'] = [x.lower().replace(' ','') for x in row['Storage']]\n",
        "    row['OS'] = [x.lower().replace(' ','') for x in row['OS']]\n",
        "df"
      ],
      "metadata": {
        "id": "0Qz13ne_QXBY"
      },
      "execution_count": null,
      "outputs": []
    },
    {
      "cell_type": "code",
      "source": [
        "df['Bag_of_words']=''\n",
        "columns=['Company','Category','CPU','Storage','OS']\n",
        "for index, row in df.iterrows():\n",
        "    words=''\n",
        "    for col in columns:\n",
        "        words+=' '.join(row[col])+ ' '\n",
        "    row['Bag_of_words']=words\n",
        "\n",
        "df = df[['Model Name','Bag_of_words']]\n",
        "df"
      ],
      "metadata": {
        "id": "ffHuZDXoe6h-"
      },
      "execution_count": null,
      "outputs": []
    },
    {
      "cell_type": "code",
      "source": [
        "count=CountVectorizer()\n",
        "count_matrix=count.fit_transform(df['Bag_of_words'])\n",
        "count_matrix"
      ],
      "metadata": {
        "id": "BVkFd8HFgxUH"
      },
      "execution_count": null,
      "outputs": []
    },
    {
      "cell_type": "code",
      "source": [
        "cosine_sim = cosine_similarity(count_matrix, count_matrix)\n",
        "print(cosine_sim)"
      ],
      "metadata": {
        "id": "Eo8mqBE7hMlN"
      },
      "execution_count": null,
      "outputs": []
    },
    {
      "cell_type": "code",
      "source": [
        "indices = pd.Series(df['Model Name'])\n",
        "indices[:5]"
      ],
      "metadata": {
        "id": "SwXarIdfjjVR"
      },
      "execution_count": null,
      "outputs": []
    },
    {
      "cell_type": "code",
      "source": [
        "def recommend(title,cosine_sim = cosine_sim):\n",
        "    recommended_devices=[]\n",
        "    idx=indices[indices == title].index[0] \n",
        "    score_series=pd.Series(cosine_sim[idx]).sort_values(ascending = False)\n",
        "    top_15_indices=list(score_series.iloc[1:16].index)     \n",
        "    for i in top_15_indices: \n",
        "        recommended_devices.append(list(df['Model Name'])[i])\n",
        "    \n",
        "    return recommended_devices"
      ],
      "metadata": {
        "id": "93cUmeSFjqva"
      },
      "execution_count": 52,
      "outputs": []
    },
    {
      "cell_type": "code",
      "source": [
        "recommend('XPS 13')"
      ],
      "metadata": {
        "id": "BFZkujrK-vDW"
      },
      "execution_count": null,
      "outputs": []
    },
    {
      "cell_type": "code",
      "source": [
        "recommend('Aspire 3')"
      ],
      "metadata": {
        "id": "tBoS9sWukX-i"
      },
      "execution_count": null,
      "outputs": []
    }
  ]
}